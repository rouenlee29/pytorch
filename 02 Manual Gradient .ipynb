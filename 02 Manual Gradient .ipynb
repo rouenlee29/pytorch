{
 "cells": [
  {
   "cell_type": "markdown",
   "metadata": {},
   "source": [
    "Slighly modified notebook from SungKim's github: https://github.com/hunkim/PyTorchZeroToAll. "
   ]
  },
  {
   "cell_type": "markdown",
   "metadata": {},
   "source": [
    "To discuss:\n",
    "1. What does print(\"progress:\", epoch, \"w=\", round(w, 2), \"loss=\", round(loss_now, 2)) do?\n",
    "2. Experiment: change the learning rate to be very very low and very very large. How do the results differ?"
   ]
  },
  {
   "cell_type": "code",
   "execution_count": null,
   "metadata": {
    "collapsed": true
   },
   "outputs": [],
   "source": [
    "x_data = [1.0, 2.0, 3.0]\n",
    "y_data = [2.0, 4.0, 6.0]\n",
    "\n",
    "w = 1.0  # a random guess: random value\n",
    "\n",
    "# our model forward pass\n",
    "def forward(x):\n",
    "    return x * w\n",
    "\n",
    "\n",
    "# Loss function\n",
    "def loss(x, y):\n",
    "    y_pred = forward(x)\n",
    "    return (y_pred - y) ** 2\n",
    "\n",
    "\n",
    "# compute gradient\n",
    "def gradient(x, y):  # d_loss/d_w\n",
    "    return 2 * x * (x * w - y)\n",
    "\n",
    "# Before training\n",
    "print(\"predict error (before training):\", forward(1))\n",
    "\n",
    "#lr, learning rate \n",
    "lr = 0.001\n",
    "\n",
    "# Training loop\n",
    "for epoch in range(100):\n",
    "    for x_val, y_val in zip(x_data, y_data):\n",
    "        grad = gradient(x_val, y_val)\n",
    "        w = w - lr * grad\n",
    "        #print(\"\\tgrad: \", x_val, y_val, round(grad, 2))\n",
    "        loss_now = loss(x_val, y_val)\n",
    "\n",
    "    if epoch%10 == 0:\n",
    "        print(\"progress:\", epoch, \"w=\", round(w, 2), \"loss=\", round(loss_now, 2))"
   ]
  }
 ],
 "metadata": {
  "kernelspec": {
   "display_name": "Python 3",
   "language": "python",
   "name": "python3"
  },
  "language_info": {
   "codemirror_mode": {
    "name": "ipython",
    "version": 3
   },
   "file_extension": ".py",
   "mimetype": "text/x-python",
   "name": "python",
   "nbconvert_exporter": "python",
   "pygments_lexer": "ipython3",
   "version": "3.6.1"
  }
 },
 "nbformat": 4,
 "nbformat_minor": 2
}
